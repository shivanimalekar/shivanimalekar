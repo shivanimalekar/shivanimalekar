{
 "cells": [
  {
   "cell_type": "markdown",
   "id": "a4bdb64c-dcbe-41cd-a0c6-4d143a12b590",
   "metadata": {},
   "source": [
    "Problem-1: Write a Python function that takes a list and returns a new list with unique elements of the first list."
   ]
  },
  {
   "cell_type": "code",
   "execution_count": 11,
   "id": "e3e3391e-0954-4a27-9cf8-55235bec90a5",
   "metadata": {},
   "outputs": [
    {
     "name": "stdout",
     "output_type": "stream",
     "text": [
      "[1, 2, 3, 4, 5]\n"
     ]
    }
   ],
   "source": [
    "def unique_list(numbers):\n",
    "    unique = []\n",
    "    for item in numbers :\n",
    "        if item not in unique:\n",
    "            unique.append(item)\n",
    "    return unique\n",
    "\n",
    "print(unique_list([1, 2, 3 , 3 , 3 , 3 , 4 , 5]))\n"
   ]
  },
  {
   "cell_type": "markdown",
   "id": "e08923f4-44e7-4bca-abb3-1f4eabe44f71",
   "metadata": {},
   "source": [
    "Problem-2: Write a Python function that accepts a hyphen-separated sequence of words as parameter and returns the words in a hyphen-separated sequence after sorting them alphabetically."
   ]
  },
  {
   "cell_type": "code",
   "execution_count": 12,
   "id": "a3f2f408-8c05-4438-8552-b7d9c824298d",
   "metadata": {},
   "outputs": [
    {
     "name": "stdout",
     "output_type": "stream",
     "text": [
      "black-green-red-white-yellow\n"
     ]
    }
   ],
   "source": [
    "def sort_words(hyphen_separated_string):\n",
    "    words = hyphen_separated_string.split('-')\n",
    "    sorted_words = sorted(words)\n",
    "    return '-'.join(sorted_words)\n",
    "\n",
    "# Example usage:\n",
    "input_string = \"green-red-yellow-black-white\"\n",
    "sorted_result = sort_words(input_string)\n",
    "print(sorted_result) "
   ]
  },
  {
   "cell_type": "markdown",
   "id": "851d18d2-5cec-4221-a930-3d17e6dead20",
   "metadata": {},
   "source": [
    "Problem 3: Write a Python function that accepts a string and calculate the number of upper case letters and lower case letters."
   ]
  },
  {
   "cell_type": "code",
   "execution_count": 14,
   "id": "a3668a78-acd3-4cc9-9459-6c46211732ec",
   "metadata": {},
   "outputs": [
    {
     "name": "stdout",
     "output_type": "stream",
     "text": [
      "Original String: The quick Brown Fox\n",
      "No. of uppercase characters: 3\n",
      "No. of lowercase characters: 13\n"
     ]
    }
   ],
   "source": [
    "def count_upper_lower(s):\n",
    "    counts = {\"UPPER_CASE\": 0, \"LOWER_CASE\": 0}\n",
    "    for char in s:\n",
    "        if char.isupper():\n",
    "            counts[\"UPPER_CASE\"] += 1\n",
    "        elif char.islower():\n",
    "            counts[\"LOWER_CASE\"] += 1\n",
    "    print(f\"Original String: {s}\")\n",
    "    print(f\"No. of uppercase characters: {counts['UPPER_CASE']}\")\n",
    "    print(f\"No. of lowercase characters: {counts['LOWER_CASE']}\")\n",
    "\n",
    "# Example usage:\n",
    "count_upper_lower(\"The quick Brown Fox\")\n"
   ]
  },
  {
   "cell_type": "markdown",
   "id": "a21bc3f0-170b-40f7-8960-b060999212f5",
   "metadata": {},
   "source": [
    "Problem 4: Write a Python program to print the even numbers from a given list."
   ]
  },
  {
   "cell_type": "code",
   "execution_count": 15,
   "id": "e9d7215b-e84e-4c68-aca1-3d6e40bdb41d",
   "metadata": {},
   "outputs": [
    {
     "name": "stdout",
     "output_type": "stream",
     "text": [
      "[2, 4, 6, 8]\n"
     ]
    }
   ],
   "source": [
    "def print_even_numbers(lst):\n",
    "    even_numbers = [num for num in lst if num % 2 == 0]\n",
    "    print(even_numbers)\n",
    "\n",
    "sample_list = [1, 2, 3, 4, 5, 6, 7, 8, 9]\n",
    "print_even_numbers(sample_list)"
   ]
  },
  {
   "cell_type": "markdown",
   "id": "fe0b05ff-b70e-4dce-bc90-46007cc84818",
   "metadata": {},
   "source": [
    "Problem 5: Write a Python function to check whether a number is perfect or not.\n",
    "A Perfect number is a number that is half the sum of all of its positive divisors (including itself)."
   ]
  },
  {
   "cell_type": "code",
   "execution_count": 4,
   "id": "8df2cf52-40b2-488b-8978-1a7270020ce3",
   "metadata": {},
   "outputs": [
    {
     "name": "stdin",
     "output_type": "stream",
     "text": [
      "Enter a number:  1\n"
     ]
    },
    {
     "name": "stdout",
     "output_type": "stream",
     "text": [
      "1 is a perfect number\n"
     ]
    }
   ],
   "source": [
    "def is_perfect(number):\n",
    "    # Initialize the sum of divisors\n",
    "    sum_of_divisors = 1\n",
    "\n",
    "    # Iterate from 2 to (number - 1)\n",
    "    for i in range(2, number):\n",
    "        if number % i == 0:\n",
    "            sum_of_divisors += i\n",
    "\n",
    "    # Check if the sum of divisors equals the number\n",
    "    return sum_of_divisors == number\n",
    "\n",
    "# Example usage:\n",
    "user_input = int(input(\"Enter a number: \"))\n",
    "if is_perfect(user_input):\n",
    "    print(f\"{user_input} is a perfect number\")\n",
    "else:\n",
    "    print(f\"{user_input} is not a perfect number\")\n",
    "\n"
   ]
  },
  {
   "cell_type": "markdown",
   "id": "aef3eb01-da4d-4942-8247-12300c9aeeff",
   "metadata": {},
   "source": [
    "Problem-6: Write a Python function to concatenate any no of dictionaries to create a new one."
   ]
  },
  {
   "cell_type": "code",
   "execution_count": 25,
   "id": "39bf8bf3-8a0d-4363-9ccd-2d1edec0e68d",
   "metadata": {},
   "outputs": [
    {
     "name": "stdout",
     "output_type": "stream",
     "text": [
      "{1: 10, 2: 20, 3: 30, 4: 40, 5: 50, 6: 60}\n"
     ]
    }
   ],
   "source": [
    "dic1 = {1: 10, 2: 20}\n",
    "dic2 = {3: 30, 4: 40}\n",
    "dic3 = {5: 50, 6: 60}\n",
    "\n",
    "# Create an empty dictionary 'dic4' that will store the combined key-value pairs from 'dic1', 'dic2', and 'dic3'.\n",
    "dic4 = {}\n",
    "\n",
    "# Iterate through each dictionary ('dic1', 'dic2', and 'dic3') using a loop.\n",
    "for d in (dic1, dic2, dic3):\n",
    "    # Update 'dic4' by adding the key-value pairs from the current dictionary 'd'.\n",
    "    dic4.update(d)\n",
    "\n",
    "# Print the combined dictionary 'dic4' containing all the key-value pairs from 'dic1', 'dic2', and 'dic3'.\n",
    "print(dic4) \n"
   ]
  },
  {
   "cell_type": "markdown",
   "id": "c3cf5cbc-cf9a-4249-8472-cd637f67f7d6",
   "metadata": {},
   "source": [
    "Problem-7 Write a python function that accepts a string as input and returns the word with most occurence."
   ]
  },
  {
   "cell_type": "code",
   "execution_count": 30,
   "id": "55c89466-a239-4f0b-a6cf-582b9e480d42",
   "metadata": {},
   "outputs": [
    {
     "name": "stdout",
     "output_type": "stream",
     "text": [
      "you -> 2\n"
     ]
    }
   ],
   "source": [
    "from collections import Counter\n",
    "\n",
    "def most_frequent_word(s):\n",
    "    words = s.split()\n",
    "    word_counts = Counter(words)\n",
    "    most_common_word, count = word_counts.most_common(1)[0]\n",
    "    return most_common_word, count\n",
    "\n",
    "# Example usage:\n",
    "input_string = \"hello how are you i am fine thank you\"\n",
    "word, count = most_frequent_word(input_string)\n",
    "print(f\"{word} -> {count}\")  # Output: you -> 2"
   ]
  },
  {
   "cell_type": "markdown",
   "id": "20c424f7-a4bb-484c-8f32-0ea71c2752db",
   "metadata": {},
   "source": [
    "Problem-8 Write a python function that receives a list of integers and prints out a histogram of bin size 10"
   ]
  },
  {
   "cell_type": "code",
   "execution_count": 28,
   "id": "f17eadb4-2b2b-41c5-ad96-20fa9f38a571",
   "metadata": {},
   "outputs": [
    {
     "data": {
      "image/png": "[encoded data removed]",
      "text/plain": [
       "<Figure size 640x480 with 1 Axes>"
      ]
     },
     "metadata": {},
     "output_type": "display_data"
    }
   ],
   "source": [
    "import matplotlib.pyplot as plt\n",
    "\n",
    "def plot_histogram(data):\n",
    "    # Set the bin boundaries (equally distributed)\n",
    "    binwidth = 10\n",
    "    bins = range(min(data), max(data) + binwidth, binwidth)\n",
    "    \n",
    "    # Create the histogram\n",
    "    plt.hist(data, bins=bins, edgecolor='black')\n",
    "    \n",
    "    # Customize the plot (optional)\n",
    "    plt.xlabel('Value')\n",
    "    plt.ylabel('Frequency')\n",
    "    plt.title('Histogram with Bin Size 10')\n",
    "    \n",
    "    # Show the plot\n",
    "    plt.show()\n",
    "\n",
    "# Example usage\n",
    "input_data = [13, 42, 15, 37, 22, 39, 41, 50]\n",
    "plot_histogram(input_data)\n"
   ]
  },
  {
   "cell_type": "markdown",
   "id": "de583cbd-24ff-4a11-ad9a-846a8c25f5df",
   "metadata": {},
   "source": [
    "Problem-9 Write a python function that accepts a list of 2D co-ordinates and a query point, and then finds the the co-ordinate which is closest in terms of distance from the query point.\n",
    "\n",
    "List of Coordinates\n",
    "[(1,1),(2,2),(3,3),(4,4)]\n",
    "Query Point\n",
    "(0,0)"
   ]
  },
  {
   "cell_type": "code",
   "execution_count": 13,
   "id": "facae7e2-15f1-4dfe-aad6-e3b7f6344e96",
   "metadata": {},
   "outputs": [
    {
     "name": "stdout",
     "output_type": "stream",
     "text": [
      "Nearest to (0, 0) is (1, 1)\n"
     ]
    }
   ],
   "source": [
    "import math\n",
    "\n",
    "def find_closest_coordinate(coords, query_point):\n",
    "    def euclidean_distance(p1, p2):\n",
    "        return math.sqrt((p1[0] - p2[0])*2 + (p1[1] - p2[1])*2)\n",
    "    \n",
    "    closest_coord = None\n",
    "    min_distance = float('inf')\n",
    "    \n",
    "    for coord in coords:\n",
    "        distance = euclidean_distance(coord, query_point)\n",
    "        if distance < min_distance:\n",
    "            min_distance = distance\n",
    "            closest_coord = coord\n",
    "            \n",
    "    return closest_coord\n",
    "\n",
    "# Example usage:\n",
    "coordinates = [(1, 1), (2, 2), (3, 3), (4, 4)]\n",
    "query_point = (0, 0)\n",
    "\n",
    "nearest = find_closest_coordinate(coordinates, query_point)\n",
    "print(f\"Nearest to {query_point} is {nearest}\")"
   ]
  },
  {
   "cell_type": "markdown",
   "id": "c2624342-d9fa-43fa-b776-14fed2b72a5d",
   "metadata": {},
   "source": [
    "Problem-10:Write a python program that receives a list of strings and performs bag of word operation on those strings\n",
    "\n",
    "[ ]\n"
   ]
  },
  {
   "cell_type": "code",
   "execution_count": 5,
   "id": "0c1a2e6a-f20e-4b27-93fc-b8af95408de7",
   "metadata": {},
   "outputs": [
    {
     "name": "stdout",
     "output_type": "stream",
     "text": [
      "Bag of Words Matrix:\n",
      "[[1 0 0 0 1 1 1 2]\n",
      " [0 0 1 1 0 1 1 2]\n",
      " [1 1 1 0 0 0 0 2]]\n",
      "\n",
      "Feature Names:\n",
      "['cat' 'chased' 'dog' 'log' 'mat' 'on' 'sat' 'the']\n"
     ]
    }
   ],
   "source": [
    "from collections import Counter\n",
    "from sklearn.feature_extraction.text import CountVectorizer\n",
    "\n",
    "def bag_of_words(texts):\n",
    "    vectorizer = CountVectorizer()\n",
    "    X = vectorizer.fit_transform(texts)\n",
    "    return X.toarray(), vectorizer.get_feature_names_out()\n",
    "\n",
    "# Example usage\n",
    "texts = [\n",
    "    \"The cat sat on the mat\",\n",
    "    \"The dog sat on the log\",\n",
    "    \"The cat chased the dog\"\n",
    "]\n",
    "\n",
    "bow_matrix, feature_names = bag_of_words(texts)\n",
    "\n",
    "print(\"Bag of Words Matrix:\")\n",
    "print(bow_matrix)\n",
    "\n",
    "print(\"\\nFeature Names:\")\n",
    "print(feature_names)"
   ]
  },
  {
   "cell_type": "markdown",
   "id": "25de246e-6c31-4a42-abef-37968113d9c6",
   "metadata": {},
   "source": [
    "Problem 11: Write a Python program to add three given lists using Python map and lambda."
   ]
  },
  {
   "cell_type": "code",
   "execution_count": 10,
   "id": "9c022a60-07e5-4bb0-b477-0dd74f874e72",
   "metadata": {},
   "outputs": [
    {
     "name": "stdout",
     "output_type": "stream",
     "text": [
      "New list after adding above three lists:\n",
      "[12, 15, 18]\n"
     ]
    }
   ],
   "source": [
    "# Create three lists named nums1, nums2, and nums3 with integer elements\n",
    "nums1 = [1, 2, 3]\n",
    "nums2 = [4, 5, 6]\n",
    "nums3 = [7, 8, 9]\n",
    "\n",
    "# Use the map function to apply a lambda function that adds corresponding elements\n",
    "# from nums1, nums2, and nums3 and create a new list\n",
    "result = list(map(lambda x, y, z: x + y + z, nums1, nums2, nums3))\n",
    "\n",
    "# Print the result of the map operation as a list\n",
    "print(\"New list after adding above three lists:\")\n",
    "print(result)"
   ]
  },
  {
   "cell_type": "markdown",
   "id": "e8284625-e450-4f8a-bec5-2788e9711d91",
   "metadata": {},
   "source": [
    "Problem-12:Write a Python program to create a list containing the power of said number in bases raised to the corresponding number in the index using Python map."
   ]
  },
  {
   "cell_type": "code",
   "execution_count": 33,
   "id": "2911066d-9944-4d86-a6cb-125b2f445a6b",
   "metadata": {},
   "outputs": [
    {
     "name": "stdout",
     "output_type": "stream",
     "text": [
      "The original list is : [1, 2, 3, 4, 5, 6]\n",
      "Powered elements : [1, 2, 9, 64, 625, 7776]\n"
     ]
    }
   ],
   "source": [
    "# Python3 code to demonstrate working of\n",
    "# Index Power List\n",
    " \n",
    "# initializing list\n",
    "test_list = [1,2,3,4,5,6]\n",
    "             \n",
    "# printing original list\n",
    "print(\"The original list is : \" + str(test_list))\n",
    " \n",
    "# ** does task of getting power\n",
    "res = []\n",
    "import operator\n",
    "for i in range(0,len(test_list)):\n",
    "    res.append(operator.pow(test_list[i],i))\n",
    "     \n",
    "# printing result\n",
    "print(\"Powered elements : \" + str(res))"
   ]
  },
  {
   "cell_type": "markdown",
   "id": "eb215e9a-ab5e-4389-981e-b01701f018f5",
   "metadata": {},
   "source": [
    "Problem-13 Using filter() and list() functions and .lower() method filter all the vowels in a given string."
   ]
  },
  {
   "cell_type": "code",
   "execution_count": 23,
   "id": "296f3929-31ca-4cda-9271-b595224328b2",
   "metadata": {},
   "outputs": [
    {
     "name": "stdout",
     "output_type": "stream",
     "text": [
      "['o', 'u', 'E', 'a', 'e', 'i']\n"
     ]
    }
   ],
   "source": [
    "def is_vowel(char):\n",
    "    return char.lower() in 'aeiou'\n",
    "\n",
    "input_string = \"YourExampleString\"\n",
    "vowels = list(filter(is_vowel, input_string))\n",
    "print(vowels)"
   ]
  },
  {
   "cell_type": "markdown",
   "id": "6e683259-097b-429c-90f6-54d69b7d6bb2",
   "metadata": {},
   "source": [
    "Problem-14: Use reduce to convert a 2D list to 1D\n",
    "\n",
    "[ ]\n"
   ]
  },
  {
   "cell_type": "code",
   "execution_count": 11,
   "id": "0df80063-97f4-4eac-855c-c0e009e60620",
   "metadata": {},
   "outputs": [
    {
     "name": "stdout",
     "output_type": "stream",
     "text": [
      "[1, 2, 3, 4, 5, 6, 7, 8, 9]\n"
     ]
    }
   ],
   "source": [
    "from functools import reduce\n",
    "\n",
    "# Example 2D list\n",
    "list_2d = [[1, 2, 3], [4, 5], [6, 7, 8, 9]]\n",
    "\n",
    "# Function to concatenate two lists\n",
    "def flatten(acc, sublist):\n",
    "    return acc + sublist\n",
    "\n",
    "# Use reduce to flatten the 2D list\n",
    "list_1d = reduce(flatten, list_2d, [])\n",
    "\n",
    "print(list_1d)"
   ]
  },
  {
   "cell_type": "markdown",
   "id": "ad0cbd2a-947d-4d7e-bb7d-62bf4f247855",
   "metadata": {},
   "source": [
    "Problem 15- A dictionary contains following information about 5 employees:\n",
    "\n",
    "First name\n",
    "Last name\n",
    "Age\n",
    "Grade(Skilled,Semi-skilled,Highly skilled)\n",
    "Write a program using map/filter/reduce to a list of employees(first name + last name) who are highly skilled\n",
    "[ ]\n"
   ]
  },
  {
   "cell_type": "code",
   "execution_count": 7,
   "id": "bebac3b3-7519-450a-99d9-635f27f5d846",
   "metadata": {},
   "outputs": [
    {
     "data": {
      "text/plain": [
       "['Shravani Deshmukha', 'Sneha Chavhan']"
      ]
     },
     "execution_count": 7,
     "metadata": {},
     "output_type": "execute_result"
    }
   ],
   "source": [
    "employees = [\n",
    "    {\n",
    "        'fname':'pallavi',\n",
    "        'lname':'Honmali',\n",
    "        'age' : 20,\n",
    "        'grade':'skilled'\n",
    "    },\n",
    "    {\n",
    "        'fname':'Mayuri',\n",
    "        'lname':'Kadam',\n",
    "        'age' : 21,\n",
    "        'grade':'semi-skilled'\n",
    "    },\n",
    "    {\n",
    "        'fname':'Shravani',\n",
    "        'lname':'Deshmukha',\n",
    "        'age' : 20,\n",
    "        'grade':'highly-skilled'\n",
    "    \n",
    "    },\n",
    "    {\n",
    "        'fname':'Shivani',\n",
    "        'lname':'Malekar',\n",
    "        'age' : 22,\n",
    "        'grade':'skilled'\n",
    "    },\n",
    "    {\n",
    "        'fname':'Sneha',\n",
    "        'lname':'Chavhan',\n",
    "        'age' : 19,\n",
    "        'grade':'highly-skilled'\n",
    "    }\n",
    "    \n",
    "]\n",
    "list(map(lambda x:x['fname'] + ' ' + x['lname'],list(filter(lambda x:True if x['grade'] == 'highly-skilled' else False,employees))))"
   ]
  }
 ],
 "metadata": {
  "kernelspec": {
   "display_name": "Python 3 (ipykernel)",
   "language": "python",
   "name": "python3"
  },
  "language_info": {
   "codemirror_mode": {
    "name": "ipython",
    "version": 3
   },
   "file_extension": ".py",
   "mimetype": "text/x-python",
   "name": "python",
   "nbconvert_exporter": "python",
   "pygments_lexer": "ipython3",
   "version": "3.11.7"
  }
 },
 "nbformat": 4,
 "nbformat_minor": 5
}
